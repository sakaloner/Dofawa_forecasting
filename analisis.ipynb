{
 "cells": [
  {
   "cell_type": "code",
   "execution_count": 2,
   "id": "c9067c06",
   "metadata": {},
   "outputs": [],
   "source": [
    "import matplotlib.pyplot as plt\n",
    "import numpy as np\n",
    "import pandas as pd"
   ]
  },
  {
   "cell_type": "code",
   "execution_count": 3,
   "id": "e7c46d23",
   "metadata": {},
   "outputs": [
    {
     "data": {
      "text/plain": [
       "['Aceite',\n",
       " 'Ala',\n",
       " 'Aleacion',\n",
       " 'Brote',\n",
       " 'Caparazon',\n",
       " 'Carne',\n",
       " 'Cereal',\n",
       " 'Cola',\n",
       " 'Concentrado',\n",
       " 'Corteza',\n",
       " 'Cuero',\n",
       " 'Esencia de...',\n",
       " 'Flor',\n",
       " 'Fragmentc',\n",
       " 'Fragmente',\n",
       " 'Fragmente...',\n",
       " 'Fragmentt...',\n",
       " 'Fruta',\n",
       " 'Gelatina',\n",
       " 'Guijarro',\n",
       " 'Haiku',\n",
       " 'Hongo',\n",
       " 'Hueso',\n",
       " 'Huevo',\n",
       " 'Idolo',\n",
       " 'Jugo de Pt...',\n",
       " 'Jugo de pe...',\n",
       " 'Jugo de pt...',\n",
       " 'Lana',\n",
       " 'Legumbre',\n",
       " 'Liquido',\n",
       " 'Llave',\n",
       " 'Lotachistoso',\n",
       " 'Madera',\n",
       " 'Material di...',\n",
       " 'Mineral',\n",
       " 'Nawidad',\n",
       " 'Ojo',\n",
       " 'Oreja',\n",
       " 'Pata',\n",
       " 'Pelo',\n",
       " 'Pescado',\n",
       " 'Piedra bruta',\n",
       " 'Piedra pre ...',\n",
       " 'Piedra pre...',\n",
       " 'Piel',\n",
       " 'Planta',\n",
       " 'Pluma',\n",
       " 'Polvo',\n",
       " 'Preparacion',\n",
       " 'Raiz',\n",
       " 'Recurso',\n",
       " 'Recurso di...',\n",
       " 'Recursos t...',\n",
       " 'Ropaje',\n",
       " 'Savia',\n",
       " 'Semilla',\n",
       " 'Tabla',\n",
       " 'Tejido',\n",
       " 'Tinte']"
      ]
     },
     "execution_count": 3,
     "metadata": {},
     "output_type": "execute_result"
    }
   ],
   "source": [
    "df = pd.read_csv('objetos.csv')\n",
    "#df[df.categoria == 'fdolo'].index\n",
    "#df.loc[df[df.categoria == 'fdolo'].index].categoria = 'idolo'\n",
    "sorted(df.categoria.value_counts().index)"
   ]
  },
  {
   "cell_type": "code",
   "execution_count": 9,
   "id": "69fb6360",
   "metadata": {},
   "outputs": [
    {
     "data": {
      "text/html": [
       "<div>\n",
       "<style scoped>\n",
       "    .dataframe tbody tr th:only-of-type {\n",
       "        vertical-align: middle;\n",
       "    }\n",
       "\n",
       "    .dataframe tbody tr th {\n",
       "        vertical-align: top;\n",
       "    }\n",
       "\n",
       "    .dataframe thead th {\n",
       "        text-align: right;\n",
       "    }\n",
       "</style>\n",
       "<table border=\"1\" class=\"dataframe\">\n",
       "  <thead>\n",
       "    <tr style=\"text-align: right;\">\n",
       "      <th></th>\n",
       "      <th>nombre</th>\n",
       "      <th>categoria</th>\n",
       "      <th>precio</th>\n",
       "    </tr>\n",
       "  </thead>\n",
       "  <tbody>\n",
       "    <tr>\n",
       "      <th>279</th>\n",
       "      <td>Fragmento del mapa de |...</td>\n",
       "      <td>Fragmentc</td>\n",
       "      <td>44394</td>\n",
       "    </tr>\n",
       "  </tbody>\n",
       "</table>\n",
       "</div>"
      ],
      "text/plain": [
       "                         nombre  categoria precio\n",
       "279  Fragmento del mapa de |...  Fragmentc  44394"
      ]
     },
     "execution_count": 9,
     "metadata": {},
     "output_type": "execute_result"
    }
   ],
   "source": [
    "df[df.categoria == 'Fragmentc']"
   ]
  }
 ],
 "metadata": {
  "kernelspec": {
   "display_name": "datasc",
   "language": "python",
   "name": "datasc"
  },
  "language_info": {
   "codemirror_mode": {
    "name": "ipython",
    "version": 3
   },
   "file_extension": ".py",
   "mimetype": "text/x-python",
   "name": "python",
   "nbconvert_exporter": "python",
   "pygments_lexer": "ipython3",
   "version": "3.8.10"
  }
 },
 "nbformat": 4,
 "nbformat_minor": 5
}
